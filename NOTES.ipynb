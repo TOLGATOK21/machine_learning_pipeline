{
 "cells": [
  {
   "cell_type": "markdown",
   "id": "52156fbe",
   "metadata": {},
   "source": [
    "## Karşılaştığım hatalar \n"
   ]
  },
  {
   "cell_type": "markdown",
   "id": "176b8929",
   "metadata": {},
   "source": [
    "src klasörünü python bir modül olarak görmesi gerkiyordu. Terminalde ise çalıştırma biçimi doya yoklu olarak değilde şu şekilde olmalı"
   ]
  },
  {
   "cell_type": "markdown",
   "id": "94e317b9",
   "metadata": {},
   "source": [
    "python -m src.components.data_ingestion\n"
   ]
  },
  {
   "cell_type": "code",
   "execution_count": null,
   "id": "cea25b10",
   "metadata": {},
   "outputs": [],
   "source": []
  },
  {
   "cell_type": "markdown",
   "id": "ef7f7145",
   "metadata": {},
   "source": []
  }
 ],
 "metadata": {
  "kernelspec": {
   "display_name": "Python 3",
   "language": "python",
   "name": "python3"
  },
  "language_info": {
   "name": "python",
   "version": "3.8.20"
  }
 },
 "nbformat": 4,
 "nbformat_minor": 5
}
